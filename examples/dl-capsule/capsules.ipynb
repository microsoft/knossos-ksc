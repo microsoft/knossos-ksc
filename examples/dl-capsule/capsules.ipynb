{
 "cells": [
  {
   "cell_type": "code",
   "execution_count": 1,
   "source": [
    "import torch\n",
    "import ksc.torch_frontend as knossos\n"
   ],
   "outputs": [],
   "metadata": {}
  },
  {
   "cell_type": "code",
   "execution_count": 19,
   "source": [
    "def tsrelu2(x : torch.Tensor) -> torch.Tensor:\n",
    "    return x*x*17\n",
    "\n",
    "v = torch.randn(2, device='cuda')\n",
    "\n",
    "tsrelu2(v)\n",
    "\n",
    "ts = torch.jit.script(tsrelu2)\n",
    "\n",
    "print(\"First graph - with profiling annotations\")\n",
    "print(ts.graph_for(v))\n",
    "\n",
    "\n",
    "print(\"Steady state, without grad\")\n",
    "print(ts.graph_for(v))\n",
    "\n",
    "\n",
    "v.requires_grad = True\n",
    "\n",
    "ts = torch.jit.script(tsrelu2)\n",
    "\n",
    "print(\"Steady state, with grad\")\n",
    "print(ts.graph_for(v))\n",
    "\n"
   ],
   "outputs": [
    {
     "output_type": "stream",
     "name": "stdout",
     "text": [
      "First graph - with profiling annotations\n",
      "graph(%x.1 : Tensor):\n",
      "  %1 : int = prim::Constant[value=17]() # /tmp/ipykernel_66434/3900783400.py:2:15\n",
      "  %4 : Tensor = prim::profile[profiled_type=Float(2, strides=[1], requires_grad=1, device=cuda:0)](%x.1)\n",
      "  %5 : Tensor = prim::profile[profiled_type=Float(2, strides=[1], requires_grad=1, device=cuda:0)](%x.1)\n",
      "  %2 : Tensor = aten::mul(%4, %5) # /tmp/ipykernel_66434/3900783400.py:2:11\n",
      "  %6 : Tensor = prim::profile[profiled_type=Float(2, strides=[1], requires_grad=1, device=cuda:0)](%2)\n",
      "  %3 : Tensor = aten::mul(%6, %1) # /tmp/ipykernel_66434/3900783400.py:2:11\n",
      "  %7 : Tensor = prim::profile[profiled_type=Float(2, strides=[1], requires_grad=1, device=cuda:0)](%3)\n",
      "   = prim::profile()\n",
      "  return (%7)\n",
      "\n",
      "Steady state, without grad\n",
      "graph(%x.1 : Float(2, strides=[1], requires_grad=1, device=cuda:0)):\n",
      "  %18 : Float(2, strides=[1], requires_grad=1, device=cuda:0), %19 : bool = prim::RequiresGradCheck[types=[Tensor(requires_grad=1)]](%x.1)\n",
      "  %20 : Tensor = prim::If(%19)\n",
      "    block0():\n",
      "      %9 : Tensor = prim::DifferentiableGraph_0(%18)\n",
      "      -> (%9)\n",
      "    block1():\n",
      "      %28 : Function = prim::Constant[name=\"fallback_function\", fallback=1]()\n",
      "      %29 : (Tensor) = prim::CallFunction(%28, %x.1)\n",
      "      %30 : Tensor = prim::TupleUnpack(%29)\n",
      "      -> (%30)\n",
      "  return (%20)\n",
      "with prim::DifferentiableGraph_0 = graph(%x.1 : Tensor(requires_grad=0)):\n",
      "  %8 : Tensor(requires_grad=0) = aten::mul(%x.1, %x.1) # /tmp/ipykernel_66434/3900783400.py:2:11\n",
      "  %46 : int[] = aten::size(%x.1) # <string>:3:44\n",
      "  %47 : int[] = aten::size(%8) # <string>:3:55\n",
      "  %48 : int[]? = aten::_size_if_not_equal(%46, %47) # <string>:3:19\n",
      "  %52 : (int[]?, int[]?) = prim::TupleConstruct(%48, %48)\n",
      "  %self_size.4 : int[]?, %other_size.4 : int[]? = prim::TupleUnpack(%52)\n",
      "  %3 : int = prim::Constant[value=17]()\n",
      "  %4 : Tensor = aten::mul(%8, %3) # /tmp/ipykernel_66434/3900783400.py:2:11\n",
      "  return (%4, %x.1, %self_size.4, %other_size.4)\n",
      "\n",
      "Steady state, with grad\n",
      "graph(%x.1 : Float(2, strides=[1], requires_grad=1, device=cuda:0)):\n",
      "  %18 : Float(2, strides=[1], requires_grad=1, device=cuda:0), %19 : bool = prim::RequiresGradCheck[types=[Tensor(requires_grad=1)]](%x.1)\n",
      "  %20 : Tensor = prim::If(%19)\n",
      "    block0():\n",
      "      %9 : Tensor = prim::DifferentiableGraph_0(%18)\n",
      "      -> (%9)\n",
      "    block1():\n",
      "      %28 : Function = prim::Constant[name=\"fallback_function\", fallback=1]()\n",
      "      %29 : (Tensor) = prim::CallFunction(%28, %x.1)\n",
      "      %30 : Tensor = prim::TupleUnpack(%29)\n",
      "      -> (%30)\n",
      "  return (%20)\n",
      "with prim::DifferentiableGraph_0 = graph(%x.1 : Tensor(requires_grad=0)):\n",
      "  %8 : Tensor(requires_grad=0) = aten::mul(%x.1, %x.1) # /tmp/ipykernel_66434/3900783400.py:2:11\n",
      "  %46 : int[] = aten::size(%x.1) # <string>:3:44\n",
      "  %47 : int[] = aten::size(%8) # <string>:3:55\n",
      "  %48 : int[]? = aten::_size_if_not_equal(%46, %47) # <string>:3:19\n",
      "  %52 : (int[]?, int[]?) = prim::TupleConstruct(%48, %48)\n",
      "  %self_size.4 : int[]?, %other_size.4 : int[]? = prim::TupleUnpack(%52)\n",
      "  %3 : int = prim::Constant[value=17]()\n",
      "  %4 : Tensor = aten::mul(%8, %3) # /tmp/ipykernel_66434/3900783400.py:2:11\n",
      "  return (%4, %x.1, %self_size.4, %other_size.4)\n",
      "\n"
     ]
    }
   ],
   "metadata": {}
  },
  {
   "cell_type": "code",
   "execution_count": 2,
   "source": [
    "@knossos.register(generate_lm=True)\n",
    "def relu2(x : float) -> float:\n",
    "  if x < 0.0:\n",
    "    return 0.0\n",
    "  else:\n",
    "    return x*x\n",
    "\n",
    "relu2.ensure_compiled((1.0,))\n",
    "\n",
    "relu2(3.3)"
   ],
   "outputs": [
    {
     "output_type": "stream",
     "name": "stdout",
     "text": [
      "Module=None\n",
      "knossos.register: Compiling relu2\n",
      "knossos: module= None\n",
      "knossos: no module, just returning None\n",
      "TorchScriptVisitor: Adding <function relu2 at 0x7ff260a179d0> to todo set()\n",
      "TorchScriptVisitor: Remaining: {<function relu2 at 0x7ff260a179d0>}\n",
      "TorchScriptVisitor: Marking <function relu2 at 0x7ff260a179d0> as done\n",
      "(def relu2 None ((_x$o1 : Float))\n",
      "  (let (_2 0.0)\n",
      "  (let (_3 (aten::lt _x$o1 0.0))\n",
      "  (let (_16 (if _3\n",
      "              _2\n",
      "              (let (_7 (aten::mul _x$o1 _x$o1))\n",
      "              _7)))\n",
      "  _16))))\n",
      "\n",
      "generate_cpp_from_ks: /awf-vmdisk-1/awf/dev/knossos-ksc/build/bin/ksc /tmp/tmpck7qbt3e.ks\n",
      "ksc: read decls\n",
      "ksc: Linted generated defs\n",
      "ksc: Linted opt decls\n",
      "ksc: Linted CSE decls\n",
      "ksc: Writing to /tmp/tmprkx0uy80.kso\n",
      "ksc: Writing to /tmp/tmpat2335sy.cpp\n",
      "\n",
      "\n",
      "ksc.utils: File not changed: /awf-vmdisk-1/awf/dev/knossos-ksc/build/torch_extensions/KscStub_VSnone_lm_NoMod_relu2__generate_lm/ksc-main.cpp\n",
      "ksc.utils: File not changed: /awf-vmdisk-1/awf/dev/knossos-ksc/build/torch_extensions/KscStub_VSnone_lm_NoMod_relu2__generate_lm/ksc-pybind.cpp\n",
      "Emitting ninja build file /awf-vmdisk-1/awf/dev/knossos-ksc/build/torch_extensions/KscStub_VSnone_lm_NoMod_relu2__generate_lm/build.ninja...\n",
      "Building extension module KscStub_VSnone_lm_NoMod_relu2__generate_lm...\n",
      "Allowing ninja to set a default number of workers... (overridable by setting the environment variable MAX_JOBS=N)\n",
      "[1/3] c++ -MMD -MF ksc-main.o.d -DTORCH_EXTENSION_NAME=KscStub_VSnone_lm_NoMod_relu2__generate_lm -DTORCH_API_INCLUDE_EXTENSION_H -DPYBIND11_COMPILER_TYPE=\\\"_gcc\\\" -DPYBIND11_STDLIB=\\\"_libstdcpp\\\" -DPYBIND11_BUILD_ABI=\\\"_cxxabi1011\\\" -I/awf-vmdisk-1/awf/dev/knossos-ksc/src/runtime -isystem /anaconda/envs/knossos/lib/python3.8/site-packages/torch/include -isystem /anaconda/envs/knossos/lib/python3.8/site-packages/torch/include/torch/csrc/api/include -isystem /anaconda/envs/knossos/lib/python3.8/site-packages/torch/include/TH -isystem /anaconda/envs/knossos/lib/python3.8/site-packages/torch/include/THC -isystem /anaconda/envs/knossos/include/python3.8 -D_GLIBCXX_USE_CXX11_ABI=0 -fPIC -std=c++14 -std=c++17 -g -O3 -c /awf-vmdisk-1/awf/dev/knossos-ksc/build/torch_extensions/KscStub_VSnone_lm_NoMod_relu2__generate_lm/ksc-main.cpp -o ksc-main.o \n",
      "[2/3] c++ -MMD -MF ksc-pybind.o.d -DTORCH_EXTENSION_NAME=KscStub_VSnone_lm_NoMod_relu2__generate_lm -DTORCH_API_INCLUDE_EXTENSION_H -DPYBIND11_COMPILER_TYPE=\\\"_gcc\\\" -DPYBIND11_STDLIB=\\\"_libstdcpp\\\" -DPYBIND11_BUILD_ABI=\\\"_cxxabi1011\\\" -I/awf-vmdisk-1/awf/dev/knossos-ksc/src/runtime -isystem /anaconda/envs/knossos/lib/python3.8/site-packages/torch/include -isystem /anaconda/envs/knossos/lib/python3.8/site-packages/torch/include/torch/csrc/api/include -isystem /anaconda/envs/knossos/lib/python3.8/site-packages/torch/include/TH -isystem /anaconda/envs/knossos/lib/python3.8/site-packages/torch/include/THC -isystem /anaconda/envs/knossos/include/python3.8 -D_GLIBCXX_USE_CXX11_ABI=0 -fPIC -std=c++14 -std=c++17 -g -O3 -c /awf-vmdisk-1/awf/dev/knossos-ksc/build/torch_extensions/KscStub_VSnone_lm_NoMod_relu2__generate_lm/ksc-pybind.cpp -o ksc-pybind.o \n",
      "[3/3] c++ ksc-main.o ksc-pybind.o -shared -L/anaconda/envs/knossos/lib/python3.8/site-packages/torch/lib -lc10 -ltorch_cpu -ltorch -ltorch_python -o KscStub_VSnone_lm_NoMod_relu2__generate_lm.so\n",
      "Loading extension module KscStub_VSnone_lm_NoMod_relu2__generate_lm...\n"
     ]
    },
    {
     "output_type": "execute_result",
     "data": {
      "text/plain": [
       "tensor(10.8900)"
      ]
     },
     "metadata": {},
     "execution_count": 2
    }
   ],
   "metadata": {}
  },
  {
   "cell_type": "code",
   "execution_count": 3,
   "source": [
    "vrelu2 = knossos.vmap(relu2)"
   ],
   "outputs": [
    {
     "output_type": "stream",
     "name": "stdout",
     "text": [
      "Module=None\n"
     ]
    }
   ],
   "metadata": {}
  },
  {
   "cell_type": "code",
   "execution_count": 4,
   "source": [
    "x = torch.rand(1000000)\n",
    "y = vrelu2(x)\n",
    "dy = y * 0.0001\n",
    "vrelu2.vjp(x, dy)"
   ],
   "outputs": [
    {
     "output_type": "stream",
     "name": "stdout",
     "text": [
      "knossos.register: Compiling relu2\n",
      "knossos: module= None\n",
      "knossos: no module, just returning None\n",
      "TorchScriptVisitor: Adding <function relu2 at 0x7ff260a179d0> to todo set()\n",
      "TorchScriptVisitor: Remaining: {<function relu2 at 0x7ff260a179d0>}\n",
      "TorchScriptVisitor: Marking <function relu2 at 0x7ff260a179d0> as done\n",
      "TorchScriptVisitor: example input type (Tensor 0 Float) differs from TorchScript input type Float\n",
      "(def relu2 None ((_x$o1 : Float))\n",
      "  (let (_2 0.0)\n",
      "  (let (_3 (aten::lt _x$o1 0.0))\n",
      "  (let (_16 (if _3\n",
      "              _2\n",
      "              (let (_7 (aten::mul _x$o1 _x$o1))\n",
      "              _7)))\n",
      "  _16))))\n",
      "\n",
      "generate_cpp_from_ks: /awf-vmdisk-1/awf/dev/knossos-ksc/build/bin/ksc /tmp/tmpeil5jnx9.ks\n",
      "ksc: read decls\n",
      "ksc: Linted generated defs\n",
      "ksc: Linted opt decls\n",
      "ksc: Linted CSE decls\n",
      "ksc: Writing to /tmp/tmpca5jqi15.kso\n",
      "ksc: Writing to /tmp/tmpiu234asy.cpp\n",
      "\n",
      "\n",
      "\n",
      "\n",
      "torch::Tensor entry(torch::Tensor arg0)\n",
      "     {\n",
      "    int64_t n = arg0.size(0);\n",
      "\n",
      "    KS_ASSERT(arg0.is_contiguous());\n",
      "    KS_ASSERT(arg0.scalar_type() == scalar_type_of_Float);\n",
      "    KS_ASSERT(arg0.size(0) == n);\n",
      "\n",
      "    auto ks_arg0 = convert_to_ks_viewing_tensordata<ks::tensor<1, ks::Float>>(arg0);\n",
      "\n",
      "    // Create Torch return value\n",
      "    auto ret = torch::zeros({n});\n",
      "    ks::Float* ret_ptr = ret.data_ptr<ks::Float>();\n",
      "\n",
      "    KS_MARK(&g_alloc, mark);\n",
      "    for (int i = 0; i != n; ++i) {\n",
      "        ret_ptr[i] = ks::relu2$af(&g_alloc , ks_arg0[i]);\n",
      "        // We have copied the return value, can reset allocator\n",
      "        KS_RESET(&g_alloc, mark);\n",
      "    }\n",
      "\n",
      "    return ret;\n",
      "}\n",
      "\n",
      "\n",
      "\n",
      "torch::Tensor entry_vjp(torch::Tensor arg0, torch::Tensor arg1)\n",
      "     {\n",
      "    int64_t n = arg0.size(0);\n",
      "\n",
      "    KS_ASSERT(arg0.is_contiguous());\n",
      "    KS_ASSERT(arg0.scalar_type() == scalar_type_of_Float);\n",
      "    KS_ASSERT(arg0.size(0) == n);\n",
      "\n",
      "    auto ks_arg0 = convert_to_ks_viewing_tensordata<ks::tensor<1, ks::Float>>(arg0);\n",
      "\n",
      "    KS_ASSERT(arg1.is_contiguous());\n",
      "    KS_ASSERT(arg1.scalar_type() == scalar_type_of_Float);\n",
      "    KS_ASSERT(arg1.size(0) == n);\n",
      "\n",
      "    auto ks_arg1 = convert_to_ks_viewing_tensordata<ks::tensor<1, ks::Float>>(arg1);\n",
      "\n",
      "    // Create Torch return value\n",
      "    auto ret = torch::zeros({n});\n",
      "    ks::Float* ret_ptr = ret.data_ptr<ks::Float>();\n",
      "\n",
      "    KS_MARK(&g_alloc, mark);\n",
      "    for (int i = 0; i != n; ++i) {\n",
      "        ret_ptr[i] = ks::sufrev$relu2$af(&g_alloc , ks_arg0[i], ks_arg1[i]);\n",
      "        // We have copied the return value, can reset allocator\n",
      "        KS_RESET(&g_alloc, mark);\n",
      "    }\n",
      "\n",
      "    return ret;\n",
      "}\n",
      "\n",
      "ksc.utils: File not changed: /awf-vmdisk-1/awf/dev/knossos-ksc/build/torch_extensions/KscStub_VSvmap_NoMod_relu2/ksc-main.cpp\n",
      "ksc.utils: File not changed: /awf-vmdisk-1/awf/dev/knossos-ksc/build/torch_extensions/KscStub_VSvmap_NoMod_relu2/ksc-pybind.cpp\n",
      "Emitting ninja build file /awf-vmdisk-1/awf/dev/knossos-ksc/build/torch_extensions/KscStub_VSvmap_NoMod_relu2/build.ninja...\n",
      "Building extension module KscStub_VSvmap_NoMod_relu2...\n",
      "Allowing ninja to set a default number of workers... (overridable by setting the environment variable MAX_JOBS=N)\n",
      "[1/3] c++ -MMD -MF ksc-main.o.d -DTORCH_EXTENSION_NAME=KscStub_VSvmap_NoMod_relu2 -DTORCH_API_INCLUDE_EXTENSION_H -DPYBIND11_COMPILER_TYPE=\\\"_gcc\\\" -DPYBIND11_STDLIB=\\\"_libstdcpp\\\" -DPYBIND11_BUILD_ABI=\\\"_cxxabi1011\\\" -I/awf-vmdisk-1/awf/dev/knossos-ksc/src/runtime -isystem /anaconda/envs/knossos/lib/python3.8/site-packages/torch/include -isystem /anaconda/envs/knossos/lib/python3.8/site-packages/torch/include/torch/csrc/api/include -isystem /anaconda/envs/knossos/lib/python3.8/site-packages/torch/include/TH -isystem /anaconda/envs/knossos/lib/python3.8/site-packages/torch/include/THC -isystem /anaconda/envs/knossos/include/python3.8 -D_GLIBCXX_USE_CXX11_ABI=0 -fPIC -std=c++14 -std=c++17 -g -O3 -c /awf-vmdisk-1/awf/dev/knossos-ksc/build/torch_extensions/KscStub_VSvmap_NoMod_relu2/ksc-main.cpp -o ksc-main.o \n",
      "[2/3] c++ -MMD -MF ksc-pybind.o.d -DTORCH_EXTENSION_NAME=KscStub_VSvmap_NoMod_relu2 -DTORCH_API_INCLUDE_EXTENSION_H -DPYBIND11_COMPILER_TYPE=\\\"_gcc\\\" -DPYBIND11_STDLIB=\\\"_libstdcpp\\\" -DPYBIND11_BUILD_ABI=\\\"_cxxabi1011\\\" -I/awf-vmdisk-1/awf/dev/knossos-ksc/src/runtime -isystem /anaconda/envs/knossos/lib/python3.8/site-packages/torch/include -isystem /anaconda/envs/knossos/lib/python3.8/site-packages/torch/include/torch/csrc/api/include -isystem /anaconda/envs/knossos/lib/python3.8/site-packages/torch/include/TH -isystem /anaconda/envs/knossos/lib/python3.8/site-packages/torch/include/THC -isystem /anaconda/envs/knossos/include/python3.8 -D_GLIBCXX_USE_CXX11_ABI=0 -fPIC -std=c++14 -std=c++17 -g -O3 -c /awf-vmdisk-1/awf/dev/knossos-ksc/build/torch_extensions/KscStub_VSvmap_NoMod_relu2/ksc-pybind.cpp -o ksc-pybind.o \n",
      "[3/3] c++ ksc-main.o ksc-pybind.o -shared -L/anaconda/envs/knossos/lib/python3.8/site-packages/torch/lib -lc10 -ltorch_cpu -ltorch -ltorch_python -o KscStub_VSvmap_NoMod_relu2.so\n",
      "Loading extension module KscStub_VSvmap_NoMod_relu2...\n"
     ]
    },
    {
     "output_type": "execute_result",
     "data": {
      "text/plain": [
       "tensor([2.2486e-05, 1.9764e-04, 1.9334e-07,  ..., 1.7217e-04, 2.6240e-08,\n",
       "        6.6577e-05])"
      ]
     },
     "metadata": {},
     "execution_count": 4
    }
   ],
   "metadata": {}
  },
  {
   "cell_type": "code",
   "execution_count": 5,
   "source": [
    "a = torch.randn(4,3)\n",
    "sum(a[i,j] for i in range(4) for j in range(3))"
   ],
   "outputs": [
    {
     "output_type": "execute_result",
     "data": {
      "text/plain": [
       "tensor(6.0630)"
      ]
     },
     "metadata": {},
     "execution_count": 5
    }
   ],
   "metadata": {}
  },
  {
   "cell_type": "code",
   "execution_count": 6,
   "source": [
    "@knossos.register(generate_lm=True)\n",
    "def conv2(a : torch.Tensor, b : torch.Tensor) -> torch.Tensor:\n",
    "  ma,na = a.size()\n",
    "  mb,nb = b.size()\n",
    "  out = torch.empty(ma-mb+1,na-nb+1)\n",
    "  for ia in range(ma-mb+1):\n",
    "    for ja in range(na-nb+1):\n",
    "      out[ia, ja] = sum(torch.tensor([\n",
    "          sum(torch.tensor([\n",
    "            a[ia+ib,ja+jb] * b[ib,jb]\n",
    "            for ib in range(ma)\n",
    "          ]))\n",
    "          for jb in range(na)\n",
    "      ]))\n",
    "  return out \n",
    "\n",
    "a = torch.randn(128,128)\n",
    "b = torch.randn(3,3)\n",
    "\n",
    "conv2(a,b)\n"
   ],
   "outputs": [
    {
     "output_type": "stream",
     "name": "stdout",
     "text": [
      "Module=None\n",
      "knossos.register: Compiling conv2\n",
      "knossos: module= None\n",
      "knossos: no module, just returning None\n",
      "TorchScriptVisitor: Adding <function conv2 at 0x7ff260a17ee0> to todo set()\n",
      "TorchScriptVisitor: Remaining: {<function conv2 at 0x7ff260a17ee0>}\n",
      "TorchScriptVisitor: Marking <function conv2 at 0x7ff260a17ee0> as done\n",
      " = prim::Loop(%30, %33) # /tmp/ipykernel_66434/1243303194.py:6:2\n",
      "  block0(%ia.1 : int):\n",
      "    %37 : int = aten::sub(%na.1, %nb.1) # /tmp/ipykernel_66434/1243303194.py:7:20\n",
      "    %38 : int = aten::add(%37, %13) # /tmp/ipykernel_66434/1243303194.py:7:20\n",
      "     = prim::Loop(%38, %33) # /tmp/ipykernel_66434/1243303194.py:7:4\n",
      "      block0(%ja.1 : int):\n",
      "        %43 : Tensor[] = prim::ListConstruct()\n",
      "         = prim::Loop(%na.1, %33) # /tmp/ipykernel_66434/1243303194.py:8:37\n",
      "          block0(%jb.1 : int):\n",
      "            %49 : Tensor[] = prim::ListConstruct()\n",
      "             = prim::Loop(%ma.1, %33) # /tmp/ipykernel_66434/1243303194.py:9:27\n",
      "              block0(%ib.1 : int):\n",
      "                %61 : int = aten::add(%ia.1, %ib.1) # /tmp/ipykernel_66434/1243303194.py:10:14\n",
      "                %67 : int = aten::add(%ja.1, %jb.1) # /tmp/ipykernel_66434/1243303194.py:10:20\n",
      "                %69 : Tensor = aten::select(%a.1, %68, %61) # /tmp/ipykernel_66434/1243303194.py:10:12\n",
      "                %71 : Tensor = aten::select(%69, %68, %67) # /tmp/ipykernel_66434/1243303194.py:10:12\n",
      "                %78 : Tensor = aten::select(%b.1, %68, %ib.1) # /tmp/ipykernel_66434/1243303194.py:10:29\n",
      "                %80 : Tensor = aten::select(%78, %68, %jb.1) # /tmp/ipykernel_66434/1243303194.py:10:29\n",
      "                %81 : Tensor = aten::mul(%71, %80) # /tmp/ipykernel_66434/1243303194.py:10:12\n",
      "                %82 : Tensor[] = aten::append(%49, %81) # /tmp/ipykernel_66434/1243303194.py:9:27\n",
      "                -> (%33)\n",
      "            %86 : Tensor = aten::tensor(%49, %21, %21, %85) # /tmp/ipykernel_66434/1243303194.py:9:14\n",
      "            %88 : Tensor = aten::sum(%86, %21) # /tmp/ipykernel_66434/1243303194.py:9:10\n",
      "            %89 : Tensor[] = aten::append(%43, %88) # /tmp/ipykernel_66434/1243303194.py:8:37\n",
      "            -> (%33)\n",
      "        %93 : Tensor = aten::tensor(%43, %21, %21, %85) # /tmp/ipykernel_66434/1243303194.py:8:24\n",
      "        %95 : Tensor = aten::sum(%93, %21) # /tmp/ipykernel_66434/1243303194.py:8:20\n",
      "        %102 : Tensor = aten::select(%out.1, %68, %ia.1) # /tmp/ipykernel_66434/1243303194.py:8:6\n",
      "        %104 : Tensor = aten::select(%102, %68, %ja.1) # /tmp/ipykernel_66434/1243303194.py:8:6\n",
      "        %106 : Tensor = aten::copy_(%104, %95, %85) # /tmp/ipykernel_66434/1243303194.py:8:6\n",
      "        -> (%33)\n",
      "    -> (%33)\n",
      "\n"
     ]
    },
    {
     "output_type": "stream",
     "name": "stderr",
     "text": [
      "/awf-vmdisk-1/awf/dev/knossos-ksc/src/python/ksc/torch_frontend.py:61: UserWarning: knossos: unimplmented node kind: prim::ListUnpack\n",
      "  warnings.warn(f\"knossos: {msg}\")\n",
      "/awf-vmdisk-1/awf/dev/knossos-ksc/src/python/ksc/torch_frontend.py:61: UserWarning: knossos: unimplmented node kind: prim::ListUnpack\n",
      "  warnings.warn(f\"knossos: {msg}\")\n"
     ]
    },
    {
     "output_type": "error",
     "ename": "AssertionError",
     "evalue": "",
     "traceback": [
      "\u001b[0;31m---------------------------------------------------------------------------\u001b[0m",
      "\u001b[0;31mAssertionError\u001b[0m                            Traceback (most recent call last)",
      "\u001b[0;32m/tmp/ipykernel_66434/1243303194.py\u001b[0m in \u001b[0;36m<module>\u001b[0;34m\u001b[0m\n\u001b[1;32m     18\u001b[0m \u001b[0mb\u001b[0m \u001b[0;34m=\u001b[0m \u001b[0mtorch\u001b[0m\u001b[0;34m.\u001b[0m\u001b[0mrandn\u001b[0m\u001b[0;34m(\u001b[0m\u001b[0;36m3\u001b[0m\u001b[0;34m,\u001b[0m\u001b[0;36m3\u001b[0m\u001b[0;34m)\u001b[0m\u001b[0;34m\u001b[0m\u001b[0;34m\u001b[0m\u001b[0m\n\u001b[1;32m     19\u001b[0m \u001b[0;34m\u001b[0m\u001b[0m\n\u001b[0;32m---> 20\u001b[0;31m \u001b[0mconv2\u001b[0m\u001b[0;34m(\u001b[0m\u001b[0ma\u001b[0m\u001b[0;34m,\u001b[0m\u001b[0mb\u001b[0m\u001b[0;34m)\u001b[0m\u001b[0;34m\u001b[0m\u001b[0;34m\u001b[0m\u001b[0m\n\u001b[0m",
      "\u001b[0;32m/awf-vmdisk-1/awf/dev/knossos-ksc/src/python/ksc/torch_frontend.py\u001b[0m in \u001b[0;36m__call__\u001b[0;34m(self, *args)\u001b[0m\n\u001b[1;32m    720\u001b[0m         \u001b[0;32mfor\u001b[0m \u001b[0muse\u001b[0m \u001b[0;32min\u001b[0m \u001b[0mthe\u001b[0m \u001b[0;34m\"forward/backward\"\u001b[0m \u001b[0mpattern\u001b[0m \u001b[0;32mfor\u001b[0m \u001b[0mgradient\u001b[0m \u001b[0mcomputation\u001b[0m\u001b[0;34m.\u001b[0m\u001b[0;34m\u001b[0m\u001b[0;34m\u001b[0m\u001b[0m\n\u001b[1;32m    721\u001b[0m         \"\"\"\n\u001b[0;32m--> 722\u001b[0;31m         \u001b[0;32mreturn\u001b[0m \u001b[0mself\u001b[0m\u001b[0;34m.\u001b[0m\u001b[0mensure_compiled\u001b[0m\u001b[0;34m(\u001b[0m\u001b[0margs\u001b[0m\u001b[0;34m)\u001b[0m\u001b[0;34m.\u001b[0m\u001b[0mapply\u001b[0m\u001b[0;34m(\u001b[0m\u001b[0;34m*\u001b[0m\u001b[0margs\u001b[0m\u001b[0;34m)\u001b[0m\u001b[0;34m\u001b[0m\u001b[0;34m\u001b[0m\u001b[0m\n\u001b[0m\u001b[1;32m    723\u001b[0m \u001b[0;34m\u001b[0m\u001b[0m\n\u001b[1;32m    724\u001b[0m     \u001b[0;32mdef\u001b[0m \u001b[0mnnModule\u001b[0m\u001b[0;34m(\u001b[0m\u001b[0mself\u001b[0m\u001b[0;34m,\u001b[0m \u001b[0mexample_input\u001b[0m\u001b[0;34m)\u001b[0m\u001b[0;34m:\u001b[0m\u001b[0;34m\u001b[0m\u001b[0;34m\u001b[0m\u001b[0m\n",
      "\u001b[0;32m/awf-vmdisk-1/awf/dev/knossos-ksc/src/python/ksc/torch_frontend.py\u001b[0m in \u001b[0;36mensure_compiled\u001b[0;34m(self, example_inputs)\u001b[0m\n\u001b[1;32m    805\u001b[0m         \u001b[0;32mif\u001b[0m \u001b[0mself\u001b[0m\u001b[0;34m.\u001b[0m\u001b[0mgenerate_lm\u001b[0m\u001b[0;34m:\u001b[0m\u001b[0;34m\u001b[0m\u001b[0;34m\u001b[0m\u001b[0m\n\u001b[1;32m    806\u001b[0m             \u001b[0mtorch_extension_name\u001b[0m \u001b[0;34m+=\u001b[0m \u001b[0;34m\"__generate_lm\"\u001b[0m\u001b[0;34m\u001b[0m\u001b[0;34m\u001b[0m\u001b[0m\n\u001b[0;32m--> 807\u001b[0;31m         \u001b[0;32mreturn\u001b[0m \u001b[0mself\u001b[0m\u001b[0;34m.\u001b[0m\u001b[0mcompile\u001b[0m\u001b[0;34m(\u001b[0m\u001b[0mexample_inputs\u001b[0m\u001b[0;34m,\u001b[0m \u001b[0mtorch_extension_name\u001b[0m\u001b[0;34m,\u001b[0m \u001b[0mconfiguration\u001b[0m\u001b[0;34m)\u001b[0m\u001b[0;34m\u001b[0m\u001b[0;34m\u001b[0m\u001b[0m\n\u001b[0m\u001b[1;32m    808\u001b[0m \u001b[0;34m\u001b[0m\u001b[0m\n\u001b[1;32m    809\u001b[0m     \u001b[0;32mdef\u001b[0m \u001b[0m_module_to_name\u001b[0m\u001b[0;34m(\u001b[0m\u001b[0mself\u001b[0m\u001b[0;34m)\u001b[0m\u001b[0;34m:\u001b[0m\u001b[0;34m\u001b[0m\u001b[0;34m\u001b[0m\u001b[0m\n",
      "\u001b[0;32m/awf-vmdisk-1/awf/dev/knossos-ksc/src/python/ksc/torch_frontend.py\u001b[0m in \u001b[0;36mcompile\u001b[0;34m(self, example_inputs, torch_extension_name, configuration)\u001b[0m\n\u001b[1;32m    775\u001b[0m         \u001b[0mself\u001b[0m\u001b[0;34m,\u001b[0m \u001b[0mexample_inputs\u001b[0m\u001b[0;34m,\u001b[0m \u001b[0mtorch_extension_name\u001b[0m\u001b[0;34m,\u001b[0m \u001b[0mconfiguration\u001b[0m\u001b[0;34m=\u001b[0m\u001b[0mCompileConfiguration\u001b[0m\u001b[0;34m(\u001b[0m\u001b[0;34m)\u001b[0m\u001b[0;34m\u001b[0m\u001b[0;34m\u001b[0m\u001b[0m\n\u001b[1;32m    776\u001b[0m     ) -> KscAutogradFunction:\n\u001b[0;32m--> 777\u001b[0;31m         self.compiled[configuration] = _tsmod2ksmod(\n\u001b[0m\u001b[1;32m    778\u001b[0m             \u001b[0mself\u001b[0m\u001b[0;34m.\u001b[0m\u001b[0mmodule\u001b[0m\u001b[0;34m,\u001b[0m\u001b[0;34m\u001b[0m\u001b[0;34m\u001b[0m\u001b[0m\n\u001b[1;32m    779\u001b[0m             \u001b[0mself\u001b[0m\u001b[0;34m.\u001b[0m\u001b[0mraw_f\u001b[0m\u001b[0;34m,\u001b[0m\u001b[0;34m\u001b[0m\u001b[0;34m\u001b[0m\u001b[0m\n",
      "\u001b[0;32m/awf-vmdisk-1/awf/dev/knossos-ksc/src/python/ksc/torch_frontend.py\u001b[0m in \u001b[0;36m_tsmod2ksmod\u001b[0;34m(module, function_obj, torch_extension_name, example_inputs, generate_lm, vectorization, gpu)\u001b[0m\n\u001b[1;32m    671\u001b[0m \u001b[0;34m\u001b[0m\u001b[0m\n\u001b[1;32m    672\u001b[0m     \u001b[0mvisitor\u001b[0m \u001b[0;34m=\u001b[0m \u001b[0mTorchScriptVisitor\u001b[0m\u001b[0;34m(\u001b[0m\u001b[0;34m)\u001b[0m\u001b[0;34m\u001b[0m\u001b[0;34m\u001b[0m\u001b[0m\n\u001b[0;32m--> 673\u001b[0;31m     \u001b[0mksc_defs\u001b[0m \u001b[0;34m=\u001b[0m \u001b[0mvisitor\u001b[0m\u001b[0;34m.\u001b[0m\u001b[0mgenerate_defs_recursive\u001b[0m\u001b[0;34m(\u001b[0m\u001b[0mmodule\u001b[0m\u001b[0;34m,\u001b[0m \u001b[0mfunction_obj\u001b[0m\u001b[0;34m,\u001b[0m \u001b[0mexample_inputs\u001b[0m\u001b[0;34m)\u001b[0m\u001b[0;34m\u001b[0m\u001b[0;34m\u001b[0m\u001b[0m\n\u001b[0m\u001b[1;32m    674\u001b[0m \u001b[0;34m\u001b[0m\u001b[0m\n\u001b[1;32m    675\u001b[0m     \u001b[0mentry_def\u001b[0m \u001b[0;34m=\u001b[0m \u001b[0mksc_defs\u001b[0m\u001b[0;34m[\u001b[0m\u001b[0;34m-\u001b[0m\u001b[0;36m1\u001b[0m\u001b[0;34m]\u001b[0m\u001b[0;34m\u001b[0m\u001b[0;34m\u001b[0m\u001b[0m\n",
      "\u001b[0;32m/awf-vmdisk-1/awf/dev/knossos-ksc/src/python/ksc/torch_frontend.py\u001b[0m in \u001b[0;36mgenerate_defs_recursive\u001b[0;34m(self, module, function_obj, example_inputs)\u001b[0m\n\u001b[1;32m    417\u001b[0m                 \u001b[0;32myield\u001b[0m \u001b[0mksc_def\u001b[0m\u001b[0;34m\u001b[0m\u001b[0;34m\u001b[0m\u001b[0m\n\u001b[1;32m    418\u001b[0m \u001b[0;34m\u001b[0m\u001b[0m\n\u001b[0;32m--> 419\u001b[0;31m         \u001b[0;32mreturn\u001b[0m \u001b[0mlist\u001b[0m\u001b[0;34m(\u001b[0m\u001b[0mksc_defs\u001b[0m\u001b[0;34m(\u001b[0m\u001b[0;34m)\u001b[0m\u001b[0;34m)\u001b[0m\u001b[0;34m[\u001b[0m\u001b[0;34m:\u001b[0m\u001b[0;34m:\u001b[0m\u001b[0;34m-\u001b[0m\u001b[0;36m1\u001b[0m\u001b[0;34m]\u001b[0m\u001b[0;34m\u001b[0m\u001b[0;34m\u001b[0m\u001b[0m\n\u001b[0m\u001b[1;32m    420\u001b[0m \u001b[0;34m\u001b[0m\u001b[0m\n\u001b[1;32m    421\u001b[0m \u001b[0;34m\u001b[0m\u001b[0m\n",
      "\u001b[0;32m/awf-vmdisk-1/awf/dev/knossos-ksc/src/python/ksc/torch_frontend.py\u001b[0m in \u001b[0;36mksc_defs\u001b[0;34m()\u001b[0m\n\u001b[1;32m    414\u001b[0m                 \u001b[0mts_fn\u001b[0m \u001b[0;34m=\u001b[0m \u001b[0mtorch\u001b[0m\u001b[0;34m.\u001b[0m\u001b[0mjit\u001b[0m\u001b[0;34m.\u001b[0m\u001b[0mscript\u001b[0m\u001b[0;34m(\u001b[0m\u001b[0mtodo_fn\u001b[0m\u001b[0;34m)\u001b[0m\u001b[0;34m\u001b[0m\u001b[0;34m\u001b[0m\u001b[0m\n\u001b[1;32m    415\u001b[0m                 \u001b[0mts_graph\u001b[0m \u001b[0;34m=\u001b[0m \u001b[0mts_fn\u001b[0m\u001b[0;34m.\u001b[0m\u001b[0mgraph\u001b[0m\u001b[0;34m\u001b[0m\u001b[0;34m\u001b[0m\u001b[0m\n\u001b[0;32m--> 416\u001b[0;31m                 \u001b[0mksc_def\u001b[0m \u001b[0;34m=\u001b[0m \u001b[0mself\u001b[0m\u001b[0;34m.\u001b[0m\u001b[0mgenerate_def\u001b[0m\u001b[0;34m(\u001b[0m\u001b[0mtodo_fn\u001b[0m\u001b[0;34m.\u001b[0m\u001b[0m__name__\u001b[0m\u001b[0;34m,\u001b[0m \u001b[0mts_graph\u001b[0m\u001b[0;34m,\u001b[0m \u001b[0mexample_inputs\u001b[0m\u001b[0;34m)\u001b[0m\u001b[0;34m\u001b[0m\u001b[0;34m\u001b[0m\u001b[0m\n\u001b[0m\u001b[1;32m    417\u001b[0m                 \u001b[0;32myield\u001b[0m \u001b[0mksc_def\u001b[0m\u001b[0;34m\u001b[0m\u001b[0;34m\u001b[0m\u001b[0m\n\u001b[1;32m    418\u001b[0m \u001b[0;34m\u001b[0m\u001b[0m\n",
      "\u001b[0;32m/awf-vmdisk-1/awf/dev/knossos-ksc/src/python/ksc/torch_frontend.py\u001b[0m in \u001b[0;36mgenerate_def\u001b[0;34m(self, name, graph, example_inputs)\u001b[0m\n\u001b[1;32m    355\u001b[0m         \u001b[0mall_nodes\u001b[0m \u001b[0;34m=\u001b[0m \u001b[0mlist\u001b[0m\u001b[0;34m(\u001b[0m\u001b[0mgraph\u001b[0m\u001b[0;34m.\u001b[0m\u001b[0mnodes\u001b[0m\u001b[0;34m(\u001b[0m\u001b[0;34m)\u001b[0m\u001b[0;34m)\u001b[0m\u001b[0;34m\u001b[0m\u001b[0;34m\u001b[0m\u001b[0m\n\u001b[1;32m    356\u001b[0m \u001b[0;34m\u001b[0m\u001b[0m\n\u001b[0;32m--> 357\u001b[0;31m         \u001b[0mbinds\u001b[0m \u001b[0;34m=\u001b[0m \u001b[0mself\u001b[0m\u001b[0;34m.\u001b[0m\u001b[0mmake_binds\u001b[0m\u001b[0;34m(\u001b[0m\u001b[0mall_nodes\u001b[0m\u001b[0;34m)\u001b[0m\u001b[0;34m\u001b[0m\u001b[0;34m\u001b[0m\u001b[0m\n\u001b[0m\u001b[1;32m    358\u001b[0m \u001b[0;34m\u001b[0m\u001b[0m\n\u001b[1;32m    359\u001b[0m         args = [\n",
      "\u001b[0;32m/awf-vmdisk-1/awf/dev/knossos-ksc/src/python/ksc/torch_frontend.py\u001b[0m in \u001b[0;36mmake_binds\u001b[0;34m(self, nodes)\u001b[0m\n\u001b[1;32m    349\u001b[0m \u001b[0;34m\u001b[0m\u001b[0m\n\u001b[1;32m    350\u001b[0m     \u001b[0;32mdef\u001b[0m \u001b[0mmake_binds\u001b[0m\u001b[0;34m(\u001b[0m\u001b[0mself\u001b[0m\u001b[0;34m,\u001b[0m \u001b[0mnodes\u001b[0m\u001b[0;34m)\u001b[0m \u001b[0;34m->\u001b[0m \u001b[0mList\u001b[0m\u001b[0;34m[\u001b[0m\u001b[0mTuple\u001b[0m\u001b[0;34m[\u001b[0m\u001b[0mVar\u001b[0m\u001b[0;34m,\u001b[0m \u001b[0mExpr\u001b[0m\u001b[0;34m]\u001b[0m\u001b[0;34m]\u001b[0m\u001b[0;34m:\u001b[0m\u001b[0;34m\u001b[0m\u001b[0;34m\u001b[0m\u001b[0m\n\u001b[0;32m--> 351\u001b[0;31m         \u001b[0;32mreturn\u001b[0m \u001b[0;34m[\u001b[0m\u001b[0mself\u001b[0m\u001b[0;34m.\u001b[0m\u001b[0mtranslate_node\u001b[0m\u001b[0;34m(\u001b[0m\u001b[0mnode\u001b[0m\u001b[0;34m)\u001b[0m \u001b[0;32mfor\u001b[0m \u001b[0mnode\u001b[0m \u001b[0;32min\u001b[0m \u001b[0mnodes\u001b[0m\u001b[0;34m]\u001b[0m\u001b[0;34m\u001b[0m\u001b[0;34m\u001b[0m\u001b[0m\n\u001b[0m\u001b[1;32m    352\u001b[0m \u001b[0;34m\u001b[0m\u001b[0m\n\u001b[1;32m    353\u001b[0m     \u001b[0;32mdef\u001b[0m \u001b[0mgenerate_def\u001b[0m\u001b[0;34m(\u001b[0m\u001b[0mself\u001b[0m\u001b[0;34m,\u001b[0m \u001b[0mname\u001b[0m\u001b[0;34m,\u001b[0m \u001b[0mgraph\u001b[0m\u001b[0;34m,\u001b[0m \u001b[0mexample_inputs\u001b[0m\u001b[0;34m)\u001b[0m\u001b[0;34m:\u001b[0m\u001b[0;34m\u001b[0m\u001b[0;34m\u001b[0m\u001b[0m\n",
      "\u001b[0;32m/awf-vmdisk-1/awf/dev/knossos-ksc/src/python/ksc/torch_frontend.py\u001b[0m in \u001b[0;36m<listcomp>\u001b[0;34m(.0)\u001b[0m\n\u001b[1;32m    349\u001b[0m \u001b[0;34m\u001b[0m\u001b[0m\n\u001b[1;32m    350\u001b[0m     \u001b[0;32mdef\u001b[0m \u001b[0mmake_binds\u001b[0m\u001b[0;34m(\u001b[0m\u001b[0mself\u001b[0m\u001b[0;34m,\u001b[0m \u001b[0mnodes\u001b[0m\u001b[0;34m)\u001b[0m \u001b[0;34m->\u001b[0m \u001b[0mList\u001b[0m\u001b[0;34m[\u001b[0m\u001b[0mTuple\u001b[0m\u001b[0;34m[\u001b[0m\u001b[0mVar\u001b[0m\u001b[0;34m,\u001b[0m \u001b[0mExpr\u001b[0m\u001b[0;34m]\u001b[0m\u001b[0;34m]\u001b[0m\u001b[0;34m:\u001b[0m\u001b[0;34m\u001b[0m\u001b[0;34m\u001b[0m\u001b[0m\n\u001b[0;32m--> 351\u001b[0;31m         \u001b[0;32mreturn\u001b[0m \u001b[0;34m[\u001b[0m\u001b[0mself\u001b[0m\u001b[0;34m.\u001b[0m\u001b[0mtranslate_node\u001b[0m\u001b[0;34m(\u001b[0m\u001b[0mnode\u001b[0m\u001b[0;34m)\u001b[0m \u001b[0;32mfor\u001b[0m \u001b[0mnode\u001b[0m \u001b[0;32min\u001b[0m \u001b[0mnodes\u001b[0m\u001b[0;34m]\u001b[0m\u001b[0;34m\u001b[0m\u001b[0;34m\u001b[0m\u001b[0m\n\u001b[0m\u001b[1;32m    352\u001b[0m \u001b[0;34m\u001b[0m\u001b[0m\n\u001b[1;32m    353\u001b[0m     \u001b[0;32mdef\u001b[0m \u001b[0mgenerate_def\u001b[0m\u001b[0;34m(\u001b[0m\u001b[0mself\u001b[0m\u001b[0;34m,\u001b[0m \u001b[0mname\u001b[0m\u001b[0;34m,\u001b[0m \u001b[0mgraph\u001b[0m\u001b[0;34m,\u001b[0m \u001b[0mexample_inputs\u001b[0m\u001b[0;34m)\u001b[0m\u001b[0;34m:\u001b[0m\u001b[0;34m\u001b[0m\u001b[0;34m\u001b[0m\u001b[0m\n",
      "\u001b[0;32m/awf-vmdisk-1/awf/dev/knossos-ksc/src/python/ksc/torch_frontend.py\u001b[0m in \u001b[0;36mtranslate_node\u001b[0;34m(self, node)\u001b[0m\n\u001b[1;32m    339\u001b[0m         \u001b[0mkind\u001b[0m \u001b[0;34m=\u001b[0m \u001b[0mnode\u001b[0m\u001b[0;34m.\u001b[0m\u001b[0mkind\u001b[0m\u001b[0;34m(\u001b[0m\u001b[0;34m)\u001b[0m\u001b[0;34m\u001b[0m\u001b[0;34m\u001b[0m\u001b[0m\n\u001b[1;32m    340\u001b[0m         \u001b[0;32mif\u001b[0m \u001b[0mkind\u001b[0m \u001b[0;32min\u001b[0m \u001b[0mlookups\u001b[0m\u001b[0;34m:\u001b[0m\u001b[0;34m\u001b[0m\u001b[0;34m\u001b[0m\u001b[0m\n\u001b[0;32m--> 341\u001b[0;31m             \u001b[0;32mreturn\u001b[0m \u001b[0mlookups\u001b[0m\u001b[0;34m[\u001b[0m\u001b[0mkind\u001b[0m\u001b[0;34m]\u001b[0m\u001b[0;34m(\u001b[0m\u001b[0mnode\u001b[0m\u001b[0;34m=\u001b[0m\u001b[0mnode\u001b[0m\u001b[0;34m)\u001b[0m\u001b[0;34m\u001b[0m\u001b[0;34m\u001b[0m\u001b[0m\n\u001b[0m\u001b[1;32m    342\u001b[0m \u001b[0;34m\u001b[0m\u001b[0m\n\u001b[1;32m    343\u001b[0m         \u001b[0mprimfuns\u001b[0m \u001b[0;34m=\u001b[0m \u001b[0;34m[\u001b[0m\u001b[0;34m\"prim::min\"\u001b[0m\u001b[0;34m]\u001b[0m\u001b[0;34m\u001b[0m\u001b[0;34m\u001b[0m\u001b[0m\n",
      "\u001b[0;32m/awf-vmdisk-1/awf/dev/knossos-ksc/src/python/ksc/torch_frontend.py\u001b[0m in \u001b[0;36mmake_loop\u001b[0;34m(self, node)\u001b[0m\n\u001b[1;32m    292\u001b[0m \u001b[0;34m\u001b[0m\u001b[0m\n\u001b[1;32m    293\u001b[0m         \u001b[0mprint\u001b[0m\u001b[0;34m(\u001b[0m\u001b[0mnode\u001b[0m\u001b[0;34m)\u001b[0m\u001b[0;34m\u001b[0m\u001b[0;34m\u001b[0m\u001b[0m\n\u001b[0;32m--> 294\u001b[0;31m         \u001b[0;32massert\u001b[0m \u001b[0;32mFalse\u001b[0m\u001b[0;34m\u001b[0m\u001b[0;34m\u001b[0m\u001b[0m\n\u001b[0m\u001b[1;32m    295\u001b[0m \u001b[0;34m\u001b[0m\u001b[0m\n\u001b[1;32m    296\u001b[0m     \u001b[0;32mdef\u001b[0m \u001b[0mmake_if\u001b[0m\u001b[0;34m(\u001b[0m\u001b[0mself\u001b[0m\u001b[0;34m,\u001b[0m \u001b[0mnode\u001b[0m\u001b[0;34m)\u001b[0m\u001b[0;34m:\u001b[0m\u001b[0;34m\u001b[0m\u001b[0;34m\u001b[0m\u001b[0m\n",
      "\u001b[0;31mAssertionError\u001b[0m: "
     ]
    }
   ],
   "metadata": {}
  }
 ],
 "metadata": {
  "orig_nbformat": 4,
  "language_info": {
   "name": "python",
   "version": "3.8.10",
   "mimetype": "text/x-python",
   "codemirror_mode": {
    "name": "ipython",
    "version": 3
   },
   "pygments_lexer": "ipython3",
   "nbconvert_exporter": "python",
   "file_extension": ".py"
  },
  "kernelspec": {
   "name": "python3",
   "display_name": "Python 3.8.10 64-bit ('knossos': conda)"
  },
  "interpreter": {
   "hash": "f824ef975b63b5bc7533c466a92ceff3da98064c70ac37413c2f4ee9f9f9fed2"
  }
 },
 "nbformat": 4,
 "nbformat_minor": 2
}