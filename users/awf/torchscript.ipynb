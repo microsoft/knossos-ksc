{
 "metadata": {
  "language_info": {
   "codemirror_mode": {
    "name": "ipython",
    "version": 3
   },
   "file_extension": ".py",
   "mimetype": "text/x-python",
   "name": "python",
   "nbconvert_exporter": "python",
   "pygments_lexer": "ipython3",
   "version": "3.8.5-final"
  },
  "orig_nbformat": 2,
  "kernelspec": {
   "name": "python3",
   "display_name": "Python 3",
   "language": "python"
  }
 },
 "nbformat": 4,
 "nbformat_minor": 2,
 "cells": [
  {
   "source": [
    "os.environ['KSC_PATH'] = '../../build/bin/ksc'"
   ],
   "cell_type": "code",
   "metadata": {},
   "execution_count": 2,
   "outputs": []
  },
  {
   "cell_type": "code",
   "execution_count": 3,
   "metadata": {},
   "outputs": [],
   "source": [
    "\n",
    "import torch\n",
    "import torch.nn as nn\n",
    "import torch.nn.functional as F"
   ]
  },
  {
   "cell_type": "code",
   "execution_count": 60,
   "metadata": {},
   "outputs": [
    {
     "output_type": "execute_result",
     "data": {
      "text/plain": [
       "tensor([1.5986, 0.3441])"
      ]
     },
     "metadata": {},
     "execution_count": 60
    }
   ],
   "source": [
    "@torch.jit.script\n",
    "def bar(x : torch.Tensor):\n",
    "    if torch.mean(x) < 0:\n",
    "        t = -0.125*x\n",
    "    else:\n",
    "        t = 1/2 * x ** 2\n",
    "    return torch.sin(t)*t\n",
    "\n",
    "x0 = torch.tensor([2.2, -1.1])\n",
    "bar(x0)\n"
   ]
  },
  {
   "cell_type": "code",
   "execution_count": 27,
   "metadata": {},
   "outputs": [
    {
     "output_type": "stream",
     "name": "stdout",
     "text": [
      "def bar(x: Tensor) -> Tensor:\n  if bool(torch.lt(x, 0)):\n    t = torch.mul(x, -0.125)\n  else:\n    t = torch.mul(torch.pow(x, 2), 0.5)\n  return torch.mul(torch.sin(t), t)\n\n"
     ]
    }
   ],
   "source": [
    "print(bar.code)"
   ]
  },
  {
   "cell_type": "code",
   "execution_count": 64,
   "metadata": {},
   "outputs": [
    {
     "output_type": "stream",
     "name": "stdout",
     "text": [
      "None\n"
     ]
    }
   ],
   "source": [
    "x = torch.tensor(x0, requires_grad=True)\n",
    "y = bar(x)\n",
    "# y.backward(torch.tensor(1.0))\n",
    "\n",
    "torch.autograd.grad(y, x)"
   ]
  },
  {
   "cell_type": "code",
   "execution_count": 23,
   "metadata": {},
   "outputs": [
    {
     "output_type": "execute_result",
     "data": {
      "text/plain": [
       "['__call__',\n",
       " '__class__',\n",
       " '__delattr__',\n",
       " '__dict__',\n",
       " '__dir__',\n",
       " '__doc__',\n",
       " '__eq__',\n",
       " '__format__',\n",
       " '__ge__',\n",
       " '__getattribute__',\n",
       " '__gt__',\n",
       " '__hash__',\n",
       " '__init__',\n",
       " '__init_subclass__',\n",
       " '__le__',\n",
       " '__lt__',\n",
       " '__module__',\n",
       " '__ne__',\n",
       " '__new__',\n",
       " '__reduce__',\n",
       " '__reduce_ex__',\n",
       " '__repr__',\n",
       " '__setattr__',\n",
       " '__sizeof__',\n",
       " '__str__',\n",
       " '__subclasshook__',\n",
       " 'code',\n",
       " 'get_debug_state',\n",
       " 'graph',\n",
       " 'graph_for',\n",
       " 'inlined_graph',\n",
       " 'name',\n",
       " 'qualified_name',\n",
       " 'save',\n",
       " 'save_to_buffer',\n",
       " 'schema']"
      ]
     },
     "metadata": {},
     "execution_count": 23
    }
   ],
   "source": [
    "dir(bar)"
   ]
  },
  {
   "cell_type": "code",
   "execution_count": 6,
   "metadata": {},
   "outputs": [
    {
     "output_type": "error",
     "ename": "ModuleNotFoundError",
     "evalue": "No module named 'ksc.ts2k'",
     "traceback": [
      "\u001b[0;31m---------------------------------------------------------------------------\u001b[0m",
      "\u001b[0;31mModuleNotFoundError\u001b[0m                       Traceback (most recent call last)",
      "\u001b[0;32m<ipython-input-6-87c07c266732>\u001b[0m in \u001b[0;36m<module>\u001b[0;34m\u001b[0m\n\u001b[0;32m----> 1\u001b[0;31m \u001b[0;32mfrom\u001b[0m \u001b[0mksc\u001b[0m\u001b[0;34m.\u001b[0m\u001b[0mts2k\u001b[0m \u001b[0;32mimport\u001b[0m \u001b[0mts2mod\u001b[0m\u001b[0;34m\u001b[0m\u001b[0;34m\u001b[0m\u001b[0m\n\u001b[0m\u001b[1;32m      2\u001b[0m \u001b[0;32mfrom\u001b[0m \u001b[0mksc\u001b[0m\u001b[0;34m.\u001b[0m\u001b[0mtype\u001b[0m \u001b[0;32mimport\u001b[0m \u001b[0mType\u001b[0m\u001b[0;34m\u001b[0m\u001b[0;34m\u001b[0m\u001b[0m\n\u001b[1;32m      3\u001b[0m \u001b[0;34m\u001b[0m\u001b[0m\n\u001b[1;32m      4\u001b[0m ks_str = \"\"\"\n\u001b[1;32m      5\u001b[0m \u001b[0;34m(\u001b[0m\u001b[0;32mdef\u001b[0m \u001b[0mf\u001b[0m \u001b[0mFloat\u001b[0m \u001b[0;34m(\u001b[0m\u001b[0mx\u001b[0m \u001b[0;34m:\u001b[0m \u001b[0mFloat\u001b[0m\u001b[0;34m)\u001b[0m \u001b[0;34m(\u001b[0m\u001b[0mmul\u001b[0m \u001b[0mx\u001b[0m \u001b[0;36m2.0\u001b[0m\u001b[0;34m)\u001b[0m\u001b[0;34m)\u001b[0m\u001b[0;34m\u001b[0m\u001b[0;34m\u001b[0m\u001b[0m\n",
      "\u001b[0;31mModuleNotFoundError\u001b[0m: No module named 'ksc.ts2k'"
     ]
    }
   ],
   "source": [
    "from ksc.ts2k import ts2mod\n",
    "from ksc.type import Type\n",
    "\n",
    "ks_str = \"\"\"\n",
    "(def f Float (x : Float) (mul x 2.0))\n",
    "\"\"\"\n",
    "\n",
    "utils.generate_and_compile_cpp_from_ks(ks_str, \"f\", [Type.Float])\n",
    "\n"
   ]
  },
  {
   "cell_type": "code",
   "execution_count": 37,
   "metadata": {},
   "outputs": [
    {
     "output_type": "error",
     "ename": "ModuleNotFoundError",
     "evalue": "No module named 'pybind11'",
     "traceback": [
      "\u001b[0;31m---------------------------------------------------------------------------\u001b[0m",
      "\u001b[0;31mModuleNotFoundError\u001b[0m                       Traceback (most recent call last)",
      "\u001b[0;32m<ipython-input-37-3314c929eaf3>\u001b[0m in \u001b[0;36m<module>\u001b[0;34m\u001b[0m\n\u001b[0;32m----> 1\u001b[0;31m \u001b[0;32mimport\u001b[0m \u001b[0mpybind11\u001b[0m\u001b[0;34m\u001b[0m\u001b[0;34m\u001b[0m\u001b[0m\n\u001b[0m",
      "\u001b[0;31mModuleNotFoundError\u001b[0m: No module named 'pybind11'"
     ]
    }
   ],
   "source": [
    "import pybind11"
   ]
  },
  {
   "cell_type": "code",
   "execution_count": null,
   "metadata": {},
   "outputs": [],
   "source": []
  }
 ]
}