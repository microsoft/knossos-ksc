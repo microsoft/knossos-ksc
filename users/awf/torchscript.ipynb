{
 "metadata": {
  "language_info": {
   "codemirror_mode": {
    "name": "ipython",
    "version": 3
   },
   "file_extension": ".py",
   "mimetype": "text/x-python",
   "name": "python",
   "nbconvert_exporter": "python",
   "pygments_lexer": "ipython3",
   "version": "3.8.5-final"
  },
  "orig_nbformat": 2,
  "kernelspec": {
   "name": "python3",
   "display_name": "Python 3",
   "language": "python"
  }
 },
 "nbformat": 4,
 "nbformat_minor": 2,
 "cells": [
  {
   "source": [],
   "cell_type": "code",
   "metadata": {},
   "execution_count": 87,
   "outputs": []
  },
  {
   "cell_type": "code",
   "execution_count": 1,
   "metadata": {},
   "outputs": [],
   "source": [
    "\n",
    "import torch\n",
    "import torch.nn as nn\n",
    "import torch.nn.functional as F"
   ]
  },
  {
   "cell_type": "code",
   "execution_count": 2,
   "metadata": {},
   "outputs": [
    {
     "output_type": "execute_result",
     "data": {
      "text/plain": [
       "tensor(1.6352)"
      ]
     },
     "metadata": {},
     "execution_count": 2
    }
   ],
   "source": [
    "def bar(x : torch.Tensor):\n",
    "    if torch.mean(x) < 0:\n",
    "        t = -0.125*x\n",
    "    else:\n",
    "        t = 1/2 * x ** 2\n",
    "    return torch.norm(torch.sin(t)*t)\n",
    "\n",
    "x0 = torch.tensor([2.2, -1.1])\n",
    "bar(x0)\n"
   ]
  },
  {
   "cell_type": "code",
   "execution_count": 3,
   "metadata": {},
   "outputs": [
    {
     "output_type": "stream",
     "name": "stdout",
     "text": [
      "def bar(x: Tensor) -> Tensor:\n  _0 = torch.lt(torch.mean(x, dtype=None), 0)\n  if bool(_0):\n    t = torch.mul(x, -0.125)\n  else:\n    t = torch.mul(torch.pow(x, 2), 0.5)\n  _1 = __torch__.torch.functional.norm(torch.mul(torch.sin(t), t), \"fro\", None, False, None, None, )\n  return _1\n\n"
     ]
    }
   ],
   "source": [
    "tsbar = torch.jit.script(bar)\n",
    "print(tsbar.code)"
   ]
  },
  {
   "cell_type": "code",
   "execution_count": 4,
   "metadata": {},
   "outputs": [
    {
     "output_type": "execute_result",
     "data": {
      "text/plain": [
       "(tensor([-2.4868, -0.2468]),)"
      ]
     },
     "metadata": {},
     "execution_count": 4
    }
   ],
   "source": [
    "x = torch.tensor(x0, requires_grad=True)\n",
    "\n",
    "# Old \"tagged\"\n",
    "y = bar(x)\n",
    "dy = torch.autograd.grad(y, x)\n",
    "dy"
   ]
  },
  {
   "cell_type": "code",
   "execution_count": 8,
   "metadata": {},
   "outputs": [
    {
     "output_type": "stream",
     "name": "stderr",
     "text": [
      "/home/awf/miniconda3/envs/onnx/lib/python3.8/site-packages/ipykernel/ipkernel.py:283: DeprecationWarning: `should_run_async` will not call `transform_cell` automatically in the future. Please pass the result to `transformed_cell` argument and any exception that happen during thetransform in `preprocessing_exc_tuple` in IPython 7.17 and above.\n  and should_run_async(code)\n"
     ]
    },
    {
     "output_type": "execute_result",
     "data": {
      "text/plain": [
       "tensor([-2.4868, -0.2468], grad_fn=<ViewBackward>)"
      ]
     },
     "metadata": {},
     "execution_count": 8
    }
   ],
   "source": [
    "# new functional API\n",
    "\n",
    "dbar = torch.autograd.functional.jacobian(tsbar, x, create_graph=True)\n",
    "dbar\n"
   ]
  },
  {
   "cell_type": "code",
   "execution_count": 21,
   "metadata": {},
   "outputs": [
    {
     "output_type": "stream",
     "name": "stdout",
     "text": [
      "   O 139902033161040 ViewBackward\n",
      "   E 1 2\n",
      "     N 3 StackBackward\n",
      "     E 4 3\n",
      "       N 5 MulBackward0\n",
      "       E 6 5\n",
      "         N 7 MulBackward1\n",
      "         E 8 7\n",
      "           N 9 MulBackward1\n",
      "           E 10 9\n",
      "             N 11 CppFunction\n",
      "             E 12 11\n",
      "               N 13 MulBackward1\n",
      "               E 14 13\n",
      "                 N 15 PowBackward0\n",
      "                 E 16 15\n",
      "                   N 17 ViewBackward\n",
      "                   E 18 17\n",
      "                     V tensor([ 2.2000, -1.1000], requires_grad=True) 19 torch.Size([2])\n",
      "             E 20 11\n",
      "               N 21 MulBackward0\n",
      "               E 22 21\n",
      "                 N 23 CppFunction\n",
      "                 E 24 23\n",
      "Saw 139902033189376 again\n",
      "               E 25 21\n",
      "                 N 26 MaskedFillBackward0\n",
      "                 E 18 26\n",
      "                   N 27 DivBackward0\n",
      "                   E 28 27\n",
      "                     N 29 NormBackward0\n",
      "                     E 30 29\n",
      "Saw 139901715391104 again\n",
      "             E 31 11\n",
      "Saw 139901715391104 again\n",
      "       E 32 5\n",
      "         N 33 PowBackward0\n",
      "         E 18 33\n",
      "Saw 139902031116464 again\n",
      "/home/awf/miniconda3/envs/onnx/lib/python3.8/site-packages/ipykernel/ipkernel.py:283: DeprecationWarning: `should_run_async` will not call `transform_cell` automatically in the future. Please pass the result to `transformed_cell` argument and any exception that happen during thetransform in `preprocessing_exc_tuple` in IPython 7.17 and above.\n",
      "  and should_run_async(code)\n"
     ]
    }
   ],
   "source": [
    "# Print grad graph -- no conditionals.\n",
    "\n",
    "dbar.grad_fn\n",
    "var = dbar\n",
    "\n",
    "seen = set()\n",
    "output_nodes = (var.grad_fn,) if not isinstance(var, tuple) else tuple(v.grad_fn for v in var)\n",
    "\n",
    "global_id = 0\n",
    "ids = {}\n",
    "def sid(v):\n",
    "    global global_id\n",
    "    global ids\n",
    "    if id(v) not in ids:\n",
    "        global_id+=1\n",
    "        ids[id(v)]=global_id\n",
    "    return ids[id(v)]\n",
    "\n",
    "global c\n",
    "def add_nodes(indent, var):\n",
    "    tab = '  ' * (1+indent)\n",
    "\n",
    "    if var in seen:\n",
    "        print(\"Saw\", id(var), \"again\")\n",
    "        return\n",
    "\n",
    "    if torch.is_tensor(var):\n",
    "        print(tab, \"T\", sid(var), var.size())\n",
    "    elif hasattr(var, 'variable'):\n",
    "        u = var.variable\n",
    "        print(tab, \"V\", u, sid(var), u.size())\n",
    "    elif var in output_nodes:\n",
    "        print(tab, \"O\", sid(var), str(type(var).__name__))\n",
    "    else:\n",
    "        if 'CppFunction' in str(var):\n",
    "            global c\n",
    "            c=var\n",
    "        print(tab, \"N\", sid(var), str(type(var).__name__))\n",
    "    seen.add(var)\n",
    "    if hasattr(var, 'next_functions'):\n",
    "        for u in var.next_functions:\n",
    "            if u[0] is not None:\n",
    "                print(tab, \"E\", sid(u), str(sid(var)))\n",
    "                add_nodes(indent+1,u[0])\n",
    "    if hasattr(var, 'saved_tensors'):\n",
    "        for t in var.saved_tensors:\n",
    "            print(tab, \"E:\", str(sid(t)), str(sid(var)))\n",
    "            add_nodes(indent+1,t)\n",
    "\n",
    "add_nodes(0, var.grad_fn)"
   ]
  },
  {
   "cell_type": "code",
   "execution_count": 6,
   "metadata": {},
   "outputs": [
    {
     "output_type": "stream",
     "name": "stdout",
     "text": [
      "[(<ksc.expr.Var object at 0x7f3d681be3a0>, <ksc.expr.Call object at 0x7f3d681be400>), (<ksc.expr.Var object at 0x7f3d681be460>, <ksc.expr.Call object at 0x7f3d681be580>)]\nfiles /tmp/tmpqnfsz6d7.ks /tmp/tmpjk9h79__.kso /tmp/tmpa4vzm342.cpp\nks_str=\n(def f Float ((_x_1 : Float))\n  (let (_2 (aten::sin _x_1))\n  (let (_4 (aten::mul _2 _x_1))\n  _4)))\n\nksc: src/runtime/prelude.ks: openFile: does not exist (No such file or directory)\n\n"
     ]
    },
    {
     "output_type": "error",
     "ename": "CalledProcessError",
     "evalue": "Command '['../../build/bin/ksc', '--generate-cpp', '--ks-source-file', 'src/runtime/prelude.ks', '--ks-source-file', 'src/runtime/prelude-aten.ks', '--ks-source-file', '/tmp/tmpqnfsz6d7.ks', '--ks-output-file', '/tmp/tmpjk9h79__.kso', '--cpp-output-file', '/tmp/tmpa4vzm342.cpp']' returned non-zero exit status 1.",
     "traceback": [
      "\u001b[0;31m---------------------------------------------------------------------------\u001b[0m",
      "\u001b[0;31mCalledProcessError\u001b[0m                        Traceback (most recent call last)",
      "\u001b[0;32m<ipython-input-6-5b38b3b5701c>\u001b[0m in \u001b[0;36m<module>\u001b[0;34m\u001b[0m\n\u001b[1;32m      3\u001b[0m \u001b[0;32mdef\u001b[0m \u001b[0mf\u001b[0m\u001b[0;34m(\u001b[0m\u001b[0mx\u001b[0m\u001b[0;34m:\u001b[0m \u001b[0mfloat\u001b[0m\u001b[0;34m)\u001b[0m \u001b[0;34m->\u001b[0m \u001b[0mfloat\u001b[0m\u001b[0;34m:\u001b[0m\u001b[0;34m\u001b[0m\u001b[0;34m\u001b[0m\u001b[0m\n\u001b[1;32m      4\u001b[0m     \u001b[0;32mreturn\u001b[0m \u001b[0mtorch\u001b[0m\u001b[0;34m.\u001b[0m\u001b[0msin\u001b[0m\u001b[0;34m(\u001b[0m\u001b[0mx\u001b[0m\u001b[0;34m)\u001b[0m\u001b[0;34m*\u001b[0m\u001b[0mx\u001b[0m\u001b[0;34m\u001b[0m\u001b[0;34m\u001b[0m\u001b[0m\n\u001b[0;32m----> 5\u001b[0;31m \u001b[0mks_bar\u001b[0m \u001b[0;34m=\u001b[0m \u001b[0mts2mod\u001b[0m\u001b[0;34m(\u001b[0m\u001b[0mf\u001b[0m\u001b[0;34m)\u001b[0m\u001b[0;34m\u001b[0m\u001b[0;34m\u001b[0m\u001b[0m\n\u001b[0m",
      "\u001b[0;32m~/dev/knossos-ksc/src/ts2k/ts2ks/ts2ks.py\u001b[0m in \u001b[0;36mts2mod\u001b[0;34m(function)\u001b[0m\n\u001b[1;32m    258\u001b[0m     \u001b[0marg_types\u001b[0m \u001b[0;34m=\u001b[0m \u001b[0;34m[\u001b[0m\u001b[0marg\u001b[0m\u001b[0;34m.\u001b[0m\u001b[0mtype_\u001b[0m \u001b[0;32mfor\u001b[0m \u001b[0marg\u001b[0m \u001b[0;32min\u001b[0m \u001b[0mksc_def\u001b[0m\u001b[0;34m.\u001b[0m\u001b[0margs\u001b[0m\u001b[0;34m]\u001b[0m\u001b[0;34m\u001b[0m\u001b[0;34m\u001b[0m\u001b[0m\n\u001b[1;32m    259\u001b[0m     \u001b[0mreturn_type\u001b[0m \u001b[0;34m=\u001b[0m \u001b[0mksc_def\u001b[0m\u001b[0;34m.\u001b[0m\u001b[0mreturn_type\u001b[0m\u001b[0;34m\u001b[0m\u001b[0;34m\u001b[0m\u001b[0m\n\u001b[0;32m--> 260\u001b[0;31m     \u001b[0mmod\u001b[0m \u001b[0;34m=\u001b[0m \u001b[0mutils\u001b[0m\u001b[0;34m.\u001b[0m\u001b[0mgenerate_and_compile_cpp_from_ks\u001b[0m\u001b[0;34m(\u001b[0m\u001b[0mks_str\u001b[0m\u001b[0;34m,\u001b[0m \u001b[0mfn\u001b[0m\u001b[0;34m.\u001b[0m\u001b[0mname\u001b[0m\u001b[0;34m,\u001b[0m \u001b[0marg_types\u001b[0m\u001b[0;34m,\u001b[0m \u001b[0mreturn_type\u001b[0m\u001b[0;34m=\u001b[0m\u001b[0mreturn_type\u001b[0m\u001b[0;34m,\u001b[0m \u001b[0mgenerate_derivatives\u001b[0m\u001b[0;34m=\u001b[0m\u001b[0;32mTrue\u001b[0m\u001b[0;34m)\u001b[0m\u001b[0;34m\u001b[0m\u001b[0;34m\u001b[0m\u001b[0m\n\u001b[0m\u001b[1;32m    261\u001b[0m \u001b[0;34m\u001b[0m\u001b[0m\n\u001b[1;32m    262\u001b[0m     \u001b[0;32mreturn\u001b[0m \u001b[0mKscFunction\u001b[0m\u001b[0;34m(\u001b[0m\u001b[0mmod\u001b[0m\u001b[0;34m)\u001b[0m\u001b[0;34m\u001b[0m\u001b[0;34m\u001b[0m\u001b[0m\n",
      "\u001b[0;32m~/dev/knossos-ksc/src/python/ksc/utils.py\u001b[0m in \u001b[0;36mgenerate_and_compile_cpp_from_ks\u001b[0;34m(ks_str, name_to_call, arg_types, return_type, generate_derivatives, pybind11_path)\u001b[0m\n\u001b[1;32m    216\u001b[0m \u001b[0;32mdef\u001b[0m \u001b[0mgenerate_and_compile_cpp_from_ks\u001b[0m\u001b[0;34m(\u001b[0m\u001b[0mks_str\u001b[0m\u001b[0;34m,\u001b[0m \u001b[0mname_to_call\u001b[0m\u001b[0;34m,\u001b[0m \u001b[0marg_types\u001b[0m\u001b[0;34m,\u001b[0m \u001b[0mreturn_type\u001b[0m\u001b[0;34m=\u001b[0m\u001b[0;32mNone\u001b[0m\u001b[0;34m,\u001b[0m \u001b[0mgenerate_derivatives\u001b[0m\u001b[0;34m=\u001b[0m\u001b[0;32mFalse\u001b[0m\u001b[0;34m,\u001b[0m \u001b[0mpybind11_path\u001b[0m\u001b[0;34m=\u001b[0m\u001b[0;34m\"pybind11\"\u001b[0m\u001b[0;34m)\u001b[0m\u001b[0;34m:\u001b[0m\u001b[0;34m\u001b[0m\u001b[0;34m\u001b[0m\u001b[0m\n\u001b[1;32m    217\u001b[0m \u001b[0;34m\u001b[0m\u001b[0m\n\u001b[0;32m--> 218\u001b[0;31m     \u001b[0mgenerated_cpp_source\u001b[0m \u001b[0;34m=\u001b[0m \u001b[0mgenerate_cpp_from_ks\u001b[0m\u001b[0;34m(\u001b[0m\u001b[0mks_str\u001b[0m\u001b[0;34m,\u001b[0m \u001b[0mgenerate_derivatives\u001b[0m\u001b[0;34m=\u001b[0m\u001b[0mgenerate_derivatives\u001b[0m\u001b[0;34m)\u001b[0m\u001b[0;34m\u001b[0m\u001b[0;34m\u001b[0m\u001b[0m\n\u001b[0m\u001b[1;32m    219\u001b[0m \u001b[0;34m\u001b[0m\u001b[0m\n\u001b[1;32m    220\u001b[0m     \u001b[0margs_str\u001b[0m \u001b[0;34m=\u001b[0m \u001b[0mmangleTypes\u001b[0m\u001b[0;34m(\u001b[0m\u001b[0marg_types\u001b[0m\u001b[0;34m)\u001b[0m\u001b[0;34m\u001b[0m\u001b[0;34m\u001b[0m\u001b[0m\n",
      "\u001b[0;32m~/dev/knossos-ksc/src/python/ksc/utils.py\u001b[0m in \u001b[0;36mgenerate_cpp_from_ks\u001b[0;34m(ks_str, generate_derivatives)\u001b[0m\n\u001b[1;32m    118\u001b[0m         \u001b[0;32mwith\u001b[0m \u001b[0mNamedTemporaryFile\u001b[0m\u001b[0;34m(\u001b[0m\u001b[0mmode\u001b[0m\u001b[0;34m=\u001b[0m\u001b[0;34m\"w\"\u001b[0m\u001b[0;34m,\u001b[0m \u001b[0msuffix\u001b[0m\u001b[0;34m=\u001b[0m\u001b[0;34m\".kso\"\u001b[0m\u001b[0;34m,\u001b[0m \u001b[0mdelete\u001b[0m\u001b[0;34m=\u001b[0m\u001b[0;32mFalse\u001b[0m\u001b[0;34m)\u001b[0m \u001b[0;32mas\u001b[0m \u001b[0mfkso\u001b[0m\u001b[0;34m:\u001b[0m\u001b[0;34m\u001b[0m\u001b[0;34m\u001b[0m\u001b[0m\n\u001b[1;32m    119\u001b[0m             \u001b[0;32mwith\u001b[0m \u001b[0mNamedTemporaryFile\u001b[0m\u001b[0;34m(\u001b[0m\u001b[0mmode\u001b[0m\u001b[0;34m=\u001b[0m\u001b[0;34m\"w\"\u001b[0m\u001b[0;34m,\u001b[0m \u001b[0msuffix\u001b[0m\u001b[0;34m=\u001b[0m\u001b[0;34m\".cpp\"\u001b[0m\u001b[0;34m,\u001b[0m \u001b[0mdelete\u001b[0m\u001b[0;34m=\u001b[0m\u001b[0;32mFalse\u001b[0m\u001b[0;34m)\u001b[0m \u001b[0;32mas\u001b[0m \u001b[0mfcpp\u001b[0m\u001b[0;34m:\u001b[0m\u001b[0;34m\u001b[0m\u001b[0;34m\u001b[0m\u001b[0m\n\u001b[0;32m--> 120\u001b[0;31m                 subprocess.run([\n\u001b[0m\u001b[1;32m    121\u001b[0m                     \u001b[0mksc_path\u001b[0m\u001b[0;34m,\u001b[0m\u001b[0;34m\u001b[0m\u001b[0;34m\u001b[0m\u001b[0m\n\u001b[1;32m    122\u001b[0m                     \u001b[0;34m\"--generate-cpp\"\u001b[0m \u001b[0;32mif\u001b[0m \u001b[0mgenerate_derivatives\u001b[0m \u001b[0;32melse\u001b[0m \u001b[0;34m\"--generate-cpp-without-diffs\"\u001b[0m\u001b[0;34m,\u001b[0m\u001b[0;34m\u001b[0m\u001b[0;34m\u001b[0m\u001b[0m\n",
      "\u001b[0;32m~/miniconda3/envs/onnx/lib/python3.8/subprocess.py\u001b[0m in \u001b[0;36mrun\u001b[0;34m(input, capture_output, timeout, check, *popenargs, **kwargs)\u001b[0m\n\u001b[1;32m    510\u001b[0m         \u001b[0mretcode\u001b[0m \u001b[0;34m=\u001b[0m \u001b[0mprocess\u001b[0m\u001b[0;34m.\u001b[0m\u001b[0mpoll\u001b[0m\u001b[0;34m(\u001b[0m\u001b[0;34m)\u001b[0m\u001b[0;34m\u001b[0m\u001b[0;34m\u001b[0m\u001b[0m\n\u001b[1;32m    511\u001b[0m         \u001b[0;32mif\u001b[0m \u001b[0mcheck\u001b[0m \u001b[0;32mand\u001b[0m \u001b[0mretcode\u001b[0m\u001b[0;34m:\u001b[0m\u001b[0;34m\u001b[0m\u001b[0;34m\u001b[0m\u001b[0m\n\u001b[0;32m--> 512\u001b[0;31m             raise CalledProcessError(retcode, process.args,\n\u001b[0m\u001b[1;32m    513\u001b[0m                                      output=stdout, stderr=stderr)\n\u001b[1;32m    514\u001b[0m     \u001b[0;32mreturn\u001b[0m \u001b[0mCompletedProcess\u001b[0m\u001b[0;34m(\u001b[0m\u001b[0mprocess\u001b[0m\u001b[0;34m.\u001b[0m\u001b[0margs\u001b[0m\u001b[0;34m,\u001b[0m \u001b[0mretcode\u001b[0m\u001b[0;34m,\u001b[0m \u001b[0mstdout\u001b[0m\u001b[0;34m,\u001b[0m \u001b[0mstderr\u001b[0m\u001b[0;34m)\u001b[0m\u001b[0;34m\u001b[0m\u001b[0;34m\u001b[0m\u001b[0m\n",
      "\u001b[0;31mCalledProcessError\u001b[0m: Command '['../../build/bin/ksc', '--generate-cpp', '--ks-source-file', 'src/runtime/prelude.ks', '--ks-source-file', 'src/runtime/prelude-aten.ks', '--ks-source-file', '/tmp/tmpqnfsz6d7.ks', '--ks-output-file', '/tmp/tmpjk9h79__.kso', '--cpp-output-file', '/tmp/tmpa4vzm342.cpp']' returned non-zero exit status 1."
     ]
    }
   ],
   "source": [
    "os.environ['KSC_PATH'] = '../../build/bin/ksc'\n",
    "from ts2ks import ts2mod\n",
    "def f(x: float) -> float:\n",
    "    return torch.sin(x)*x\n",
    "ks_bar = ts2mod(f)\n"
   ]
  },
  {
   "cell_type": "code",
   "execution_count": 54,
   "metadata": {},
   "outputs": [
    {
     "output_type": "stream",
     "name": "stderr",
     "text": [
      "/home/awf/miniconda3/envs/onnx/lib/python3.8/site-packages/ipykernel/ipkernel.py:283: DeprecationWarning: `should_run_async` will not call `transform_cell` automatically in the future. Please pass the result to `transformed_cell` argument and any exception that happen during thetransform in `preprocessing_exc_tuple` in IPython 7.17 and above.\n  and should_run_async(code)\n"
     ]
    },
    {
     "output_type": "execute_result",
     "data": {
      "text/plain": [
       "1"
      ]
     },
     "metadata": {},
     "execution_count": 54
    }
   ],
   "source": [
    "1"
   ]
  },
  {
   "cell_type": "code",
   "execution_count": null,
   "metadata": {},
   "outputs": [],
   "source": []
  }
 ]
}